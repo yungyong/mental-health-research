{
 "cells": [
  {
   "cell_type": "code",
   "execution_count": 1,
   "metadata": {
    "collapsed": true
   },
   "outputs": [],
   "source": [
    "%matplotlib inline\n",
    "\n",
    "import numpy as np\n",
    "import pandas as pd\n",
    "import matplotlib.pyplot as plt\n",
    "import seaborn as sns\n",
    "\n",
    "sns.set(rc={'figure.figsize': (12, 8)})\n",
    "sns.set_palette('Set3')\n",
    "np.random.seed(86)"
   ]
  },
  {
   "cell_type": "code",
   "execution_count": 2,
   "metadata": {
    "collapsed": true
   },
   "outputs": [],
   "source": [
    "df = pd.read_csv('./data/mental-health/survey.csv')"
   ]
  },
  {
   "cell_type": "code",
   "execution_count": 3,
   "metadata": {
    "collapsed": true
   },
   "outputs": [],
   "source": [
    "df.drop('Timestamp', axis=1, inplace=True)\n",
    "\n",
    "df.replace(\n",
    "    {\n",
    "        'Gender': {\n",
    "            'male': 'Male',\n",
    "            'm': 'Male',\n",
    "            'M': 'Male',\n",
    "            'female': 'Female',\n",
    "            'f': 'Female',\n",
    "            'F': 'Female'\n",
    "        }\n",
    "    },\n",
    "    inplace=True\n",
    ")\n",
    "df.loc[~df['Gender'].isin(['Male', 'Female']), 'Gender'] = 'Other'\n",
    "\n",
    "df.loc[df['Age'] < 0, 'Age'] = np.nan\n",
    "df.loc[df['Age'] > 200, 'Age'] = np.nan\n",
    "df.loc[:, 'Age'] = df['Age'].fillna(0).astype(np.float32)\n",
    "\n",
    "df.loc[:, 'self_employed'] = df['self_employed'].fillna('No')\n",
    "\n",
    "df.drop('comments', axis=1, inplace=True)"
   ]
  },
  {
   "cell_type": "code",
   "execution_count": 4,
   "metadata": {
    "collapsed": true
   },
   "outputs": [],
   "source": [
    "y  = df['treatment'] == 'Yes'\n",
    "df.drop('treatment', axis=1, inplace=True)"
   ]
  },
  {
   "cell_type": "code",
   "execution_count": 5,
   "metadata": {
    "collapsed": true
   },
   "outputs": [],
   "source": [
    "X = pd.concat(\n",
    "    [df['Age']] + \\\n",
    "    [pd.get_dummies(df[column], prefix=column) for column in df.columns[1:]],\n",
    "    axis=1\n",
    ")"
   ]
  },
  {
   "cell_type": "code",
   "execution_count": 6,
   "metadata": {},
   "outputs": [],
   "source": [
    "from sklearn.model_selection import GridSearchCV\n",
    "from sklearn.ensemble import GradientBoostingClassifier\n",
    "\n",
    "clf = GradientBoostingClassifier()\n",
    "param_grid = {\n",
    "    'learning_rate': [1e-1, 1e-2, 1e-3, 1e-4],\n",
    "    'n_estimators': [64, 96, 120, 130, 150, 180, 240],\n",
    "    'max_depth': [1, 2, 3, 6, 8, 12]\n",
    "}\n",
    "gridsearch = GridSearchCV(clf, param_grid, verbose=1, n_jobs=4)"
   ]
  },
  {
   "cell_type": "code",
   "execution_count": 7,
   "metadata": {},
   "outputs": [
    {
     "name": "stdout",
     "output_type": "stream",
     "text": [
      "Fitting 3 folds for each of 168 candidates, totalling 504 fits\n"
     ]
    },
    {
     "name": "stderr",
     "output_type": "stream",
     "text": [
      "[Parallel(n_jobs=4)]: Done  73 tasks      | elapsed:   11.7s\n",
      "[Parallel(n_jobs=4)]: Done 223 tasks      | elapsed:  1.5min\n",
      "[Parallel(n_jobs=4)]: Done 473 tasks      | elapsed:  3.9min\n",
      "[Parallel(n_jobs=4)]: Done 504 out of 504 | elapsed:  4.6min finished\n"
     ]
    },
    {
     "data": {
      "text/plain": [
       "GridSearchCV(cv=None, error_score='raise',\n",
       "       estimator=GradientBoostingClassifier(criterion='friedman_mse', init=None,\n",
       "              learning_rate=0.1, loss='deviance', max_depth=3,\n",
       "              max_features=None, max_leaf_nodes=None,\n",
       "              min_impurity_decrease=0.0, min_impurity_split=None,\n",
       "              min_samples_leaf=1, min_samples_split=2,\n",
       "              min_weight_fraction_leaf=0.0, n_estimators=100,\n",
       "              presort='auto', random_state=None, subsample=1.0, verbose=0,\n",
       "              warm_start=False),\n",
       "       fit_params=None, iid=True, n_jobs=4,\n",
       "       param_grid={'learning_rate': [0.1, 0.01, 0.001, 0.0001], 'n_estimators': [64, 96, 120, 130, 150, 180, 240], 'max_depth': [1, 2, 3, 6, 8, 12]},\n",
       "       pre_dispatch='2*n_jobs', refit=True, return_train_score='warn',\n",
       "       scoring=None, verbose=1)"
      ]
     },
     "execution_count": 7,
     "metadata": {},
     "output_type": "execute_result"
    }
   ],
   "source": [
    "gridsearch.fit(X, y)"
   ]
  },
  {
   "cell_type": "code",
   "execution_count": 8,
   "metadata": {},
   "outputs": [
    {
     "data": {
      "text/plain": [
       "{'learning_rate': 0.1, 'max_depth': 1, 'n_estimators': 64}"
      ]
     },
     "execution_count": 8,
     "metadata": {},
     "output_type": "execute_result"
    }
   ],
   "source": [
    "gridsearch.best_params_"
   ]
  },
  {
   "cell_type": "code",
   "execution_count": 9,
   "metadata": {},
   "outputs": [
    {
     "data": {
      "text/plain": [
       "0.84034948371723595"
      ]
     },
     "execution_count": 9,
     "metadata": {},
     "output_type": "execute_result"
    }
   ],
   "source": [
    "gridsearch.best_score_"
   ]
  }
 ],
 "metadata": {
  "kernelspec": {
   "display_name": "Python 3",
   "language": "python",
   "name": "python3"
  },
  "language_info": {
   "codemirror_mode": {
    "name": "ipython",
    "version": 3
   },
   "file_extension": ".py",
   "mimetype": "text/x-python",
   "name": "python",
   "nbconvert_exporter": "python",
   "pygments_lexer": "ipython3",
   "version": "3.6.4"
  }
 },
 "nbformat": 4,
 "nbformat_minor": 2
}
